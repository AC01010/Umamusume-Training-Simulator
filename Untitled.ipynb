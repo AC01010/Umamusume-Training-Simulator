{
 "cells": [
  {
   "cell_type": "code",
   "execution_count": 28,
   "id": "57b7bde2-7d2f-4d70-9a05-82dad09a45e1",
   "metadata": {},
   "outputs": [],
   "source": [
    "import numpy as np\n",
    "import pandas as pd\n",
    "import scipy\n",
    "import facility\n",
    "import importlib\n",
    "from IPython.display import display"
   ]
  },
  {
   "cell_type": "code",
   "execution_count": 38,
   "id": "e5309021-8f5b-40e4-818a-cc29278b04cf",
   "metadata": {},
   "outputs": [
    {
     "ename": "UFuncTypeError",
     "evalue": "Cannot cast ufunc 'add' output from dtype('float64') to dtype('int64') with casting rule 'same_kind'",
     "output_type": "error",
     "traceback": [
      "\u001b[1;31m---------------------------------------------------------------------------\u001b[0m",
      "\u001b[1;31mUFuncTypeError\u001b[0m                            Traceback (most recent call last)",
      "Cell \u001b[1;32mIn[38], line 5\u001b[0m\n\u001b[0;32m      3\u001b[0m \u001b[38;5;28;01mwhile\u001b[39;00m career\u001b[38;5;241m.\u001b[39mturn \u001b[38;5;241m<\u001b[39m\u001b[38;5;241m=\u001b[39m \u001b[38;5;241m72\u001b[39m:\n\u001b[0;32m      4\u001b[0m     training \u001b[38;5;241m=\u001b[39m np\u001b[38;5;241m.\u001b[39mrandom\u001b[38;5;241m.\u001b[39mrandint(\u001b[38;5;241m5\u001b[39m)\n\u001b[1;32m----> 5\u001b[0m     career\u001b[38;5;241m.\u001b[39mtrain(training)\n",
      "File \u001b[1;32m~\\Desktop\\uma_ai\\facility.py:79\u001b[0m, in \u001b[0;36mtrain\u001b[1;34m(self, facility_i)\u001b[0m\n\u001b[0;32m     77\u001b[0m                         (1 + 0.05 * n_supporters) *\\\\\n\u001b[0;32m     78\u001b[0m                         friendship_bonus_modifier\n\u001b[1;32m---> 79\u001b[0m \n\u001b[0;32m     80\u001b[0m self.stats += total_training_stats\n\u001b[0;32m     81\u001b[0m self.turn += 1\n",
      "\u001b[1;31mUFuncTypeError\u001b[0m: Cannot cast ufunc 'add' output from dtype('float64') to dtype('int64') with casting rule 'same_kind'"
     ]
    }
   ],
   "source": [
    "importlib.reload(facility)\n",
    "career = facility.uma()\n",
    "while career.turn <= 72:\n",
    "    training = np.random.randint(5)\n",
    "    career.train(training)"
   ]
  }
 ],
 "metadata": {
  "kernelspec": {
   "display_name": "Python 3 (ipykernel)",
   "language": "python",
   "name": "python3"
  },
  "language_info": {
   "codemirror_mode": {
    "name": "ipython",
    "version": 3
   },
   "file_extension": ".py",
   "mimetype": "text/x-python",
   "name": "python",
   "nbconvert_exporter": "python",
   "pygments_lexer": "ipython3",
   "version": "3.13.5"
  }
 },
 "nbformat": 4,
 "nbformat_minor": 5
}
